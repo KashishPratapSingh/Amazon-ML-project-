{
  "nbformat": 4,
  "nbformat_minor": 0,
  "metadata": {
    "colab": {
      "provenance": []
    },
    "kernelspec": {
      "name": "python3",
      "display_name": "Python 3"
    },
    "language_info": {
      "name": "python"
    }
  },
  "cells": [
    {
      "cell_type": "code",
      "execution_count": null,
      "metadata": {
        "colab": {
          "base_uri": "https://localhost:8080/"
        },
        "id": "HPUwXkan_FfO",
        "outputId": "add064ff-7a91-47d7-cd77-b192ced36579"
      },
      "outputs": [
        {
          "output_type": "stream",
          "name": "stdout",
          "text": [
            "Requirement already satisfied: beautifulsoup4 in /usr/local/lib/python3.11/dist-packages (4.13.3)\n",
            "Requirement already satisfied: soupsieve>1.2 in /usr/local/lib/python3.11/dist-packages (from beautifulsoup4) (2.6)\n",
            "Requirement already satisfied: typing-extensions>=4.0.0 in /usr/local/lib/python3.11/dist-packages (from beautifulsoup4) (4.12.2)\n"
          ]
        }
      ],
      "source": [
        "pip install beautifulsoup4"
      ]
    },
    {
      "cell_type": "code",
      "source": [
        "import pandas as pd\n",
        "import requests\n",
        "from bs4 import BeautifulSoup\n",
        "url=\"https://www.amazon.in/s?k=mobile+under+100000&rh=n%3A1389401031&ref=nb_sb_noss\"\n",
        "headers=({'User-Agent':'Mozilla/5.0 (Windows NT 10.0; Win64; x64) AppleWebKit/537.36 (KHTML, like Gecko) Chrome/133.0.0.0 Safari/537.36 Edg/133.0.0.0','Accept-Language':'en-us, en;q=0.5'})\n",
        "r=requests.get(url,headers)\n",
        "soup=BeautifulSoup(r.content,'html.parser')\n",
        "links=soup.find_all(\"a\",attrs={'class':''})"
      ],
      "metadata": {
        "id": "DDP2YBKJ_YE_"
      },
      "execution_count": null,
      "outputs": []
    },
    {
      "cell_type": "code",
      "source": [
        "links"
      ],
      "metadata": {
        "id": "DjN4UaMIASry",
        "colab": {
          "base_uri": "https://localhost:8080/"
        },
        "outputId": "78e83510-1c59-440e-ab7e-42ce9cd850d0"
      },
      "execution_count": null,
      "outputs": [
        {
          "output_type": "execute_result",
          "data": {
            "text/plain": [
              "[]"
            ]
          },
          "metadata": {},
          "execution_count": 39
        }
      ]
    },
    {
      "cell_type": "code",
      "source": [],
      "metadata": {
        "id": "5Q3QH4cUaIsO"
      },
      "execution_count": null,
      "outputs": []
    }
  ]
}